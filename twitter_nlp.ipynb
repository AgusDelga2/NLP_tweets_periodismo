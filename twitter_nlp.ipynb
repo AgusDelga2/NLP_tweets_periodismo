{
  "nbformat": 4,
  "nbformat_minor": 0,
  "metadata": {
    "colab": {
      "provenance": [],
      "authorship_tag": "ABX9TyOZKSS9px4XM7+QnnDACLOH",
      "include_colab_link": true
    },
    "kernelspec": {
      "name": "python3",
      "display_name": "Python 3"
    },
    "language_info": {
      "name": "python"
    }
  },
  "cells": [
    {
      "cell_type": "markdown",
      "metadata": {
        "id": "view-in-github",
        "colab_type": "text"
      },
      "source": [
        "<a href=\"https://colab.research.google.com/github/AgusDelga2/NLP_tweets_periodismo/blob/main/twitter_nlp.ipynb\" target=\"_parent\"><img src=\"https://colab.research.google.com/assets/colab-badge.svg\" alt=\"Open In Colab\"/></a>"
      ]
    },
    {
      "cell_type": "markdown",
      "source": [
        "# Librerías\n",
        "\n",
        "\n",
        "Las librerías utilizadas en este código son:"
      ],
      "metadata": {
        "id": "cV0ZBSdEAmSP"
      }
    },
    {
      "cell_type": "code",
      "source": [
        "#!pip install seaborn --upgrade\n",
        "#!pip install matplotlib --upgrade"
      ],
      "metadata": {
        "id": "9tz2zQ--JJJb"
      },
      "execution_count": 85,
      "outputs": []
    },
    {
      "cell_type": "code",
      "execution_count": 86,
      "metadata": {
        "id": "IFTiM8HO_Xin",
        "colab": {
          "base_uri": "https://localhost:8080/"
        },
        "outputId": "8529ebdd-9552-46cc-85dc-1224b8910311"
      },
      "outputs": [
        {
          "output_type": "stream",
          "name": "stderr",
          "text": [
            "[nltk_data] Downloading package stopwords to /root/nltk_data...\n",
            "[nltk_data]   Package stopwords is already up-to-date!\n"
          ]
        }
      ],
      "source": [
        "# Tratamiento de datos\n",
        "# ==============================================================================\n",
        "import numpy as np\n",
        "import pandas as pd\n",
        "import string\n",
        "import re\n",
        "\n",
        "# Gráficos\n",
        "# ==============================================================================\n",
        "import matplotlib.pyplot as plt\n",
        "from matplotlib import style\n",
        "import seaborn as sns\n",
        "#style.use('ggplot') or plt.style.use('ggplot')\n",
        "\n",
        "# Preprocesado y modelado\n",
        "# ==============================================================================\n",
        "from sklearn import svm\n",
        "from sklearn.model_selection import train_test_split\n",
        "from sklearn.model_selection import GridSearchCV\n",
        "from sklearn.metrics import confusion_matrix\n",
        "from sklearn.feature_extraction.text import TfidfVectorizer\n",
        "import nltk\n",
        "nltk.download('stopwords')\n",
        "from nltk.corpus import stopwords\n",
        "\n",
        "# Configuración warnings\n",
        "# ==============================================================================\n",
        "import warnings\n",
        "warnings.filterwarnings('ignore')"
      ]
    },
    {
      "cell_type": "code",
      "source": [
        "#Importamos de google drive\n",
        "import io       # Para tener acceso a los archivos\n",
        "import os       # Para usar los directorios\n",
        "from google.colab import drive\n",
        "\n",
        "drive.mount('/content/drive')\n"
      ],
      "metadata": {
        "colab": {
          "base_uri": "https://localhost:8080/"
        },
        "id": "AIvoK3cS77aZ",
        "outputId": "b74725ed-d6df-432c-978c-d6929e7cc6a4"
      },
      "execution_count": 87,
      "outputs": [
        {
          "output_type": "stream",
          "name": "stdout",
          "text": [
            "Drive already mounted at /content/drive; to attempt to forcibly remount, call drive.mount(\"/content/drive\", force_remount=True).\n"
          ]
        }
      ]
    },
    {
      "cell_type": "markdown",
      "source": [
        "#Datos\n",
        "\n"
      ],
      "metadata": {
        "id": "vmYWcHdiAvOV"
      }
    },
    {
      "cell_type": "code",
      "source": [
        "# Lectura de datos\n",
        "# ==============================================================================\n",
        "#Creamos ruta\n",
        "url = '/content/drive/MyDrive/tweets_periodismo_NLP/Dataset/'\n",
        "tweets_infobae = pd.read_csv(url + \"tweets_infobae.csv\")\n",
        "tweets_filonews  = pd.read_csv(url + \"tweets_filonews.csv\")\n",
        "\n",
        "print('Número de tweets @filonewsOK: ' + str(tweets_filonews.shape[0]))\n",
        "print('Número de tweets @infobae: ' + str(tweets_infobae.shape[0]))"
      ],
      "metadata": {
        "id": "54xk0atC_jBQ",
        "colab": {
          "base_uri": "https://localhost:8080/"
        },
        "outputId": "89a63329-db05-4cbf-b3b9-71b0e0a266ec"
      },
      "execution_count": 88,
      "outputs": [
        {
          "output_type": "stream",
          "name": "stdout",
          "text": [
            "Número de tweets @filonewsOK: 200\n",
            "Número de tweets @infobae: 200\n"
          ]
        }
      ]
    },
    {
      "cell_type": "code",
      "source": [
        "# Se unen los dos dataframes en uno solo\n",
        "tweets = pd.concat([tweets_infobae, tweets_filonews], ignore_index=True)\n",
        "\n",
        "# Se seleccionan y renombran las columnas de interés\n",
        "tweets = tweets[['Time', 'User', 'Tweet', 'ID']]\n",
        "tweets.columns = ['fecha', 'autor', 'texto', 'id']\n",
        "\n",
        "# Parseo de fechas\n",
        "tweets['fecha'] = pd.to_datetime(tweets['fecha'])\n",
        "tweets.head(3)\n",
        "\n",
        "print(tweets)"
      ],
      "metadata": {
        "colab": {
          "base_uri": "https://localhost:8080/"
        },
        "id": "ev4iBYwn-ht2",
        "outputId": "c101b5ce-9186-495e-cf81-eb58869453f3"
      },
      "execution_count": 89,
      "outputs": [
        {
          "output_type": "stream",
          "name": "stdout",
          "text": [
            "                        fecha       autor  \\\n",
            "0   2022-11-03 15:44:10+00:00     infobae   \n",
            "1   2022-11-03 15:41:33+00:00     infobae   \n",
            "2   2022-11-03 15:41:32+00:00     infobae   \n",
            "3   2022-11-03 15:38:09+00:00     infobae   \n",
            "4   2022-11-03 15:36:40+00:00     infobae   \n",
            "..                        ...         ...   \n",
            "395 2022-11-01 15:05:17+00:00  filonewsOK   \n",
            "396 2022-11-01 15:04:18+00:00  filonewsOK   \n",
            "397 2022-11-01 15:03:19+00:00  filonewsOK   \n",
            "398 2022-11-01 15:02:09+00:00  filonewsOK   \n",
            "399 2022-11-01 14:20:49+00:00  filonewsOK   \n",
            "\n",
            "                                                 texto                   id  \n",
            "0    El llanto del Chacho Coudet tras ser despedido...  1588195336350318593  \n",
            "1    Kanye West lo hizo otra vez: convenció a Adida...  1588194679820017666  \n",
            "2    Registrate gratis en “Dinero” y recibí las nov...  1588194675298533378  \n",
            "3    Griselda Siciliani protagonista de “Bardo”, el...  1588193824538492929  \n",
            "4    25 fotos: el lanzamiento de la Semana de la Co...  1588193449345536001  \n",
            "..                                                 ...                  ...  \n",
            "395  🎙️ La edición 2022 de TEDxRíodelaPlata celebra...  1587460776822181888  \n",
            "396  👉 Está previsto que Cristina Kirchner hable en...  1587460529710309378  \n",
            "397  ⚫ Takeoff era conocido por crear éxitos como V...  1587460283047575559  \n",
            "398  👉 Ramiro Gutiérrez reclamó que se baje la edad...  1587459986963283970  \n",
            "399  ⚫ Asesinaron a Takeoff, integrante de Migos\\n\\...  1587449587760975872  \n",
            "\n",
            "[400 rows x 4 columns]\n"
          ]
        }
      ]
    },
    {
      "cell_type": "markdown",
      "source": [
        "###Limpieza y Tokenización\n",
        "\n",
        "\n",
        "La función limpiar_tokenizar() elimina el símbolo @ y # de las palabras a las que acompañan. En Twitter, los usuarios se identifican de esta forma, por lo que @ y # pertenecen al nombre."
      ],
      "metadata": {
        "id": "y_qjy-pjLlm4"
      }
    },
    {
      "cell_type": "code",
      "source": [
        "def limpiar_tokenizar(texto):\n",
        "    '''\n",
        "    Esta función limpia y tokeniza el texto en palabras individuales.\n",
        "    El orden en el que se va limpiando el texto no es arbitrario.\n",
        "    El listado de signos de puntuación se ha obtenido de: print(string.punctuation)\n",
        "    y re.escape(string.punctuation)\n",
        "    '''\n",
        "    \n",
        "    # Se convierte todo el texto a minúsculas\n",
        "    nuevo_texto = texto.lower()\n",
        "    # Eliminación de páginas web (palabras que empiezan por \"http\")\n",
        "    nuevo_texto = re.sub('http\\S+', ' ', nuevo_texto)\n",
        "    # Eliminación de signos de puntuación\n",
        "    regex = '[\\\\¡\\\\!\\\\\"\\\\“\\\\”\\\\#\\\\$\\\\%\\\\&\\\\\\'\\\\(\\\\)\\\\*\\\\+\\\\,\\\\-\\\\.\\\\/\\\\:\\\\;\\\\<\\\\=\\\\>\\\\¿\\\\?\\\\@\\\\[\\\\\\\\\\\\]\\\\^_\\\\`\\\\{\\\\|\\\\}\\\\~]'\n",
        "    nuevo_texto = re.sub(regex , ' ', nuevo_texto)\n",
        "    # Eliminación de números\n",
        "    nuevo_texto = re.sub(\"\\d+\", ' ', nuevo_texto)\n",
        "    # Eliminación de espacios en blanco múltiples\n",
        "    nuevo_texto = re.sub(\"\\\\s+\", ' ', nuevo_texto)\n",
        "    # Tokenización por palabras individuales\n",
        "    nuevo_texto = nuevo_texto.split(sep = ' ')\n",
        "    # Eliminación de tokens con una longitud < 2\n",
        "    nuevo_texto = [token for token in nuevo_texto if len(token) > 1]\n",
        "    \n",
        "    return(nuevo_texto)\n",
        "\n",
        "test = tweets.texto[0]\n",
        "print(test)\n",
        "print(limpiar_tokenizar(texto=test))"
      ],
      "metadata": {
        "colab": {
          "base_uri": "https://localhost:8080/"
        },
        "id": "k6NreNePLhXZ",
        "outputId": "c5493c1d-ae7f-4f74-a09a-72be6d4b56ab"
      },
      "execution_count": 90,
      "outputs": [
        {
          "output_type": "stream",
          "name": "stdout",
          "text": [
            "El llanto del Chacho Coudet tras ser despedido del Celta de Vigo: “Es la primera vez que me dan de baja” https://t.co/ldT6BZ14Bw\n",
            "['el', 'llanto', 'del', 'chacho', 'coudet', 'tras', 'ser', 'despedido', 'del', 'celta', 'de', 'vigo', 'es', 'la', 'primera', 'vez', 'que', 'me', 'dan', 'de', 'baja']\n"
          ]
        }
      ]
    },
    {
      "cell_type": "code",
      "source": [
        "# Se aplica la función de limpieza y tokenización a cada tweet\n",
        "# ==============================================================================\n",
        "tweets['texto_tokenizado'] = tweets['texto'].apply(lambda x: limpiar_tokenizar(x))\n",
        "tweets[['texto', 'texto_tokenizado']].head()"
      ],
      "metadata": {
        "colab": {
          "base_uri": "https://localhost:8080/",
          "height": 206
        },
        "id": "D_1RyfjdNL7t",
        "outputId": "1354538f-0fdc-4b95-e8af-e8ed9b97f212"
      },
      "execution_count": 91,
      "outputs": [
        {
          "output_type": "execute_result",
          "data": {
            "text/plain": [
              "                                               texto  \\\n",
              "0  El llanto del Chacho Coudet tras ser despedido...   \n",
              "1  Kanye West lo hizo otra vez: convenció a Adida...   \n",
              "2  Registrate gratis en “Dinero” y recibí las nov...   \n",
              "3  Griselda Siciliani protagonista de “Bardo”, el...   \n",
              "4  25 fotos: el lanzamiento de la Semana de la Co...   \n",
              "\n",
              "                                    texto_tokenizado  \n",
              "0  [el, llanto, del, chacho, coudet, tras, ser, d...  \n",
              "1  [kanye, west, lo, hizo, otra, vez, convenció, ...  \n",
              "2  [registrate, gratis, en, dinero, recibí, las, ...  \n",
              "3  [griselda, siciliani, protagonista, de, bardo,...  \n",
              "4  [fotos, el, lanzamiento, de, la, semana, de, l...  "
            ],
            "text/html": [
              "\n",
              "  <div id=\"df-bd07e48d-1a8a-4a89-993c-3ec75565e88a\">\n",
              "    <div class=\"colab-df-container\">\n",
              "      <div>\n",
              "<style scoped>\n",
              "    .dataframe tbody tr th:only-of-type {\n",
              "        vertical-align: middle;\n",
              "    }\n",
              "\n",
              "    .dataframe tbody tr th {\n",
              "        vertical-align: top;\n",
              "    }\n",
              "\n",
              "    .dataframe thead th {\n",
              "        text-align: right;\n",
              "    }\n",
              "</style>\n",
              "<table border=\"1\" class=\"dataframe\">\n",
              "  <thead>\n",
              "    <tr style=\"text-align: right;\">\n",
              "      <th></th>\n",
              "      <th>texto</th>\n",
              "      <th>texto_tokenizado</th>\n",
              "    </tr>\n",
              "  </thead>\n",
              "  <tbody>\n",
              "    <tr>\n",
              "      <th>0</th>\n",
              "      <td>El llanto del Chacho Coudet tras ser despedido...</td>\n",
              "      <td>[el, llanto, del, chacho, coudet, tras, ser, d...</td>\n",
              "    </tr>\n",
              "    <tr>\n",
              "      <th>1</th>\n",
              "      <td>Kanye West lo hizo otra vez: convenció a Adida...</td>\n",
              "      <td>[kanye, west, lo, hizo, otra, vez, convenció, ...</td>\n",
              "    </tr>\n",
              "    <tr>\n",
              "      <th>2</th>\n",
              "      <td>Registrate gratis en “Dinero” y recibí las nov...</td>\n",
              "      <td>[registrate, gratis, en, dinero, recibí, las, ...</td>\n",
              "    </tr>\n",
              "    <tr>\n",
              "      <th>3</th>\n",
              "      <td>Griselda Siciliani protagonista de “Bardo”, el...</td>\n",
              "      <td>[griselda, siciliani, protagonista, de, bardo,...</td>\n",
              "    </tr>\n",
              "    <tr>\n",
              "      <th>4</th>\n",
              "      <td>25 fotos: el lanzamiento de la Semana de la Co...</td>\n",
              "      <td>[fotos, el, lanzamiento, de, la, semana, de, l...</td>\n",
              "    </tr>\n",
              "  </tbody>\n",
              "</table>\n",
              "</div>\n",
              "      <button class=\"colab-df-convert\" onclick=\"convertToInteractive('df-bd07e48d-1a8a-4a89-993c-3ec75565e88a')\"\n",
              "              title=\"Convert this dataframe to an interactive table.\"\n",
              "              style=\"display:none;\">\n",
              "        \n",
              "  <svg xmlns=\"http://www.w3.org/2000/svg\" height=\"24px\"viewBox=\"0 0 24 24\"\n",
              "       width=\"24px\">\n",
              "    <path d=\"M0 0h24v24H0V0z\" fill=\"none\"/>\n",
              "    <path d=\"M18.56 5.44l.94 2.06.94-2.06 2.06-.94-2.06-.94-.94-2.06-.94 2.06-2.06.94zm-11 1L8.5 8.5l.94-2.06 2.06-.94-2.06-.94L8.5 2.5l-.94 2.06-2.06.94zm10 10l.94 2.06.94-2.06 2.06-.94-2.06-.94-.94-2.06-.94 2.06-2.06.94z\"/><path d=\"M17.41 7.96l-1.37-1.37c-.4-.4-.92-.59-1.43-.59-.52 0-1.04.2-1.43.59L10.3 9.45l-7.72 7.72c-.78.78-.78 2.05 0 2.83L4 21.41c.39.39.9.59 1.41.59.51 0 1.02-.2 1.41-.59l7.78-7.78 2.81-2.81c.8-.78.8-2.07 0-2.86zM5.41 20L4 18.59l7.72-7.72 1.47 1.35L5.41 20z\"/>\n",
              "  </svg>\n",
              "      </button>\n",
              "      \n",
              "  <style>\n",
              "    .colab-df-container {\n",
              "      display:flex;\n",
              "      flex-wrap:wrap;\n",
              "      gap: 12px;\n",
              "    }\n",
              "\n",
              "    .colab-df-convert {\n",
              "      background-color: #E8F0FE;\n",
              "      border: none;\n",
              "      border-radius: 50%;\n",
              "      cursor: pointer;\n",
              "      display: none;\n",
              "      fill: #1967D2;\n",
              "      height: 32px;\n",
              "      padding: 0 0 0 0;\n",
              "      width: 32px;\n",
              "    }\n",
              "\n",
              "    .colab-df-convert:hover {\n",
              "      background-color: #E2EBFA;\n",
              "      box-shadow: 0px 1px 2px rgba(60, 64, 67, 0.3), 0px 1px 3px 1px rgba(60, 64, 67, 0.15);\n",
              "      fill: #174EA6;\n",
              "    }\n",
              "\n",
              "    [theme=dark] .colab-df-convert {\n",
              "      background-color: #3B4455;\n",
              "      fill: #D2E3FC;\n",
              "    }\n",
              "\n",
              "    [theme=dark] .colab-df-convert:hover {\n",
              "      background-color: #434B5C;\n",
              "      box-shadow: 0px 1px 3px 1px rgba(0, 0, 0, 0.15);\n",
              "      filter: drop-shadow(0px 1px 2px rgba(0, 0, 0, 0.3));\n",
              "      fill: #FFFFFF;\n",
              "    }\n",
              "  </style>\n",
              "\n",
              "      <script>\n",
              "        const buttonEl =\n",
              "          document.querySelector('#df-bd07e48d-1a8a-4a89-993c-3ec75565e88a button.colab-df-convert');\n",
              "        buttonEl.style.display =\n",
              "          google.colab.kernel.accessAllowed ? 'block' : 'none';\n",
              "\n",
              "        async function convertToInteractive(key) {\n",
              "          const element = document.querySelector('#df-bd07e48d-1a8a-4a89-993c-3ec75565e88a');\n",
              "          const dataTable =\n",
              "            await google.colab.kernel.invokeFunction('convertToInteractive',\n",
              "                                                     [key], {});\n",
              "          if (!dataTable) return;\n",
              "\n",
              "          const docLinkHtml = 'Like what you see? Visit the ' +\n",
              "            '<a target=\"_blank\" href=https://colab.research.google.com/notebooks/data_table.ipynb>data table notebook</a>'\n",
              "            + ' to learn more about interactive tables.';\n",
              "          element.innerHTML = '';\n",
              "          dataTable['output_type'] = 'display_data';\n",
              "          await google.colab.output.renderOutput(dataTable, element);\n",
              "          const docLink = document.createElement('div');\n",
              "          docLink.innerHTML = docLinkHtml;\n",
              "          element.appendChild(docLink);\n",
              "        }\n",
              "      </script>\n",
              "    </div>\n",
              "  </div>\n",
              "  "
            ]
          },
          "metadata": {},
          "execution_count": 91
        }
      ]
    },
    {
      "cell_type": "markdown",
      "source": [
        "Cada elemento de la columna texto_tokenizado es una lista que contiene los tokens generados."
      ],
      "metadata": {
        "id": "7WR5CK6kNpqZ"
      }
    },
    {
      "cell_type": "markdown",
      "source": [
        "##Análisis exploratorio\n",
        "\n",
        "A continuación estudiaremos qué palabra emplea cada medio, con qué frecuencia y el significado de las mismas."
      ],
      "metadata": {
        "id": "H5J9exzOPuFW"
      }
    },
    {
      "cell_type": "code",
      "source": [
        "# Unnest de la columna texto_tokenizado\n",
        "# ==============================================================================\n",
        "tweets_tidy = tweets.explode(column='texto_tokenizado')\n",
        "tweets_tidy = tweets_tidy.drop(columns='texto')\n",
        "tweets_tidy = tweets_tidy.rename(columns={'texto_tokenizado':'token'})\n",
        "tweets_tidy.head(3)"
      ],
      "metadata": {
        "colab": {
          "base_uri": "https://localhost:8080/",
          "height": 143
        },
        "id": "0L2t4ZuZQJx1",
        "outputId": "f4cd0566-a5ea-4e5f-a90c-1f453ee4edfd"
      },
      "execution_count": 92,
      "outputs": [
        {
          "output_type": "execute_result",
          "data": {
            "text/plain": [
              "                      fecha    autor                   id   token\n",
              "0 2022-11-03 15:44:10+00:00  infobae  1588195336350318593      el\n",
              "0 2022-11-03 15:44:10+00:00  infobae  1588195336350318593  llanto\n",
              "0 2022-11-03 15:44:10+00:00  infobae  1588195336350318593     del"
            ],
            "text/html": [
              "\n",
              "  <div id=\"df-70a5a0c0-0a35-4c47-a3f5-ae9b18c02d2a\">\n",
              "    <div class=\"colab-df-container\">\n",
              "      <div>\n",
              "<style scoped>\n",
              "    .dataframe tbody tr th:only-of-type {\n",
              "        vertical-align: middle;\n",
              "    }\n",
              "\n",
              "    .dataframe tbody tr th {\n",
              "        vertical-align: top;\n",
              "    }\n",
              "\n",
              "    .dataframe thead th {\n",
              "        text-align: right;\n",
              "    }\n",
              "</style>\n",
              "<table border=\"1\" class=\"dataframe\">\n",
              "  <thead>\n",
              "    <tr style=\"text-align: right;\">\n",
              "      <th></th>\n",
              "      <th>fecha</th>\n",
              "      <th>autor</th>\n",
              "      <th>id</th>\n",
              "      <th>token</th>\n",
              "    </tr>\n",
              "  </thead>\n",
              "  <tbody>\n",
              "    <tr>\n",
              "      <th>0</th>\n",
              "      <td>2022-11-03 15:44:10+00:00</td>\n",
              "      <td>infobae</td>\n",
              "      <td>1588195336350318593</td>\n",
              "      <td>el</td>\n",
              "    </tr>\n",
              "    <tr>\n",
              "      <th>0</th>\n",
              "      <td>2022-11-03 15:44:10+00:00</td>\n",
              "      <td>infobae</td>\n",
              "      <td>1588195336350318593</td>\n",
              "      <td>llanto</td>\n",
              "    </tr>\n",
              "    <tr>\n",
              "      <th>0</th>\n",
              "      <td>2022-11-03 15:44:10+00:00</td>\n",
              "      <td>infobae</td>\n",
              "      <td>1588195336350318593</td>\n",
              "      <td>del</td>\n",
              "    </tr>\n",
              "  </tbody>\n",
              "</table>\n",
              "</div>\n",
              "      <button class=\"colab-df-convert\" onclick=\"convertToInteractive('df-70a5a0c0-0a35-4c47-a3f5-ae9b18c02d2a')\"\n",
              "              title=\"Convert this dataframe to an interactive table.\"\n",
              "              style=\"display:none;\">\n",
              "        \n",
              "  <svg xmlns=\"http://www.w3.org/2000/svg\" height=\"24px\"viewBox=\"0 0 24 24\"\n",
              "       width=\"24px\">\n",
              "    <path d=\"M0 0h24v24H0V0z\" fill=\"none\"/>\n",
              "    <path d=\"M18.56 5.44l.94 2.06.94-2.06 2.06-.94-2.06-.94-.94-2.06-.94 2.06-2.06.94zm-11 1L8.5 8.5l.94-2.06 2.06-.94-2.06-.94L8.5 2.5l-.94 2.06-2.06.94zm10 10l.94 2.06.94-2.06 2.06-.94-2.06-.94-.94-2.06-.94 2.06-2.06.94z\"/><path d=\"M17.41 7.96l-1.37-1.37c-.4-.4-.92-.59-1.43-.59-.52 0-1.04.2-1.43.59L10.3 9.45l-7.72 7.72c-.78.78-.78 2.05 0 2.83L4 21.41c.39.39.9.59 1.41.59.51 0 1.02-.2 1.41-.59l7.78-7.78 2.81-2.81c.8-.78.8-2.07 0-2.86zM5.41 20L4 18.59l7.72-7.72 1.47 1.35L5.41 20z\"/>\n",
              "  </svg>\n",
              "      </button>\n",
              "      \n",
              "  <style>\n",
              "    .colab-df-container {\n",
              "      display:flex;\n",
              "      flex-wrap:wrap;\n",
              "      gap: 12px;\n",
              "    }\n",
              "\n",
              "    .colab-df-convert {\n",
              "      background-color: #E8F0FE;\n",
              "      border: none;\n",
              "      border-radius: 50%;\n",
              "      cursor: pointer;\n",
              "      display: none;\n",
              "      fill: #1967D2;\n",
              "      height: 32px;\n",
              "      padding: 0 0 0 0;\n",
              "      width: 32px;\n",
              "    }\n",
              "\n",
              "    .colab-df-convert:hover {\n",
              "      background-color: #E2EBFA;\n",
              "      box-shadow: 0px 1px 2px rgba(60, 64, 67, 0.3), 0px 1px 3px 1px rgba(60, 64, 67, 0.15);\n",
              "      fill: #174EA6;\n",
              "    }\n",
              "\n",
              "    [theme=dark] .colab-df-convert {\n",
              "      background-color: #3B4455;\n",
              "      fill: #D2E3FC;\n",
              "    }\n",
              "\n",
              "    [theme=dark] .colab-df-convert:hover {\n",
              "      background-color: #434B5C;\n",
              "      box-shadow: 0px 1px 3px 1px rgba(0, 0, 0, 0.15);\n",
              "      filter: drop-shadow(0px 1px 2px rgba(0, 0, 0, 0.3));\n",
              "      fill: #FFFFFF;\n",
              "    }\n",
              "  </style>\n",
              "\n",
              "      <script>\n",
              "        const buttonEl =\n",
              "          document.querySelector('#df-70a5a0c0-0a35-4c47-a3f5-ae9b18c02d2a button.colab-df-convert');\n",
              "        buttonEl.style.display =\n",
              "          google.colab.kernel.accessAllowed ? 'block' : 'none';\n",
              "\n",
              "        async function convertToInteractive(key) {\n",
              "          const element = document.querySelector('#df-70a5a0c0-0a35-4c47-a3f5-ae9b18c02d2a');\n",
              "          const dataTable =\n",
              "            await google.colab.kernel.invokeFunction('convertToInteractive',\n",
              "                                                     [key], {});\n",
              "          if (!dataTable) return;\n",
              "\n",
              "          const docLinkHtml = 'Like what you see? Visit the ' +\n",
              "            '<a target=\"_blank\" href=https://colab.research.google.com/notebooks/data_table.ipynb>data table notebook</a>'\n",
              "            + ' to learn more about interactive tables.';\n",
              "          element.innerHTML = '';\n",
              "          dataTable['output_type'] = 'display_data';\n",
              "          await google.colab.output.renderOutput(dataTable, element);\n",
              "          const docLink = document.createElement('div');\n",
              "          docLink.innerHTML = docLinkHtml;\n",
              "          element.appendChild(docLink);\n",
              "        }\n",
              "      </script>\n",
              "    </div>\n",
              "  </div>\n",
              "  "
            ]
          },
          "metadata": {},
          "execution_count": 92
        }
      ]
    },
    {
      "cell_type": "markdown",
      "source": [
        "#### Frecuencia de palabras"
      ],
      "metadata": {
        "id": "icUndK22QcXN"
      }
    },
    {
      "cell_type": "code",
      "source": [
        "# Palabras totales utilizadas por cada autor\n",
        "# ==============================================================================\n",
        "print('--------------------------')\n",
        "print('Palabras totales por autor')\n",
        "print('--------------------------')\n",
        "tweets_tidy.groupby(by='autor')['token'].count()"
      ],
      "metadata": {
        "colab": {
          "base_uri": "https://localhost:8080/"
        },
        "id": "7iWN1M_3Qjg3",
        "outputId": "ee6de44b-33bd-406a-c53a-6fbf7b3d4599"
      },
      "execution_count": 93,
      "outputs": [
        {
          "output_type": "stream",
          "name": "stdout",
          "text": [
            "--------------------------\n",
            "Palabras totales por autor\n",
            "--------------------------\n"
          ]
        },
        {
          "output_type": "execute_result",
          "data": {
            "text/plain": [
              "autor\n",
              "filonewsOK    4509\n",
              "infobae       3273\n",
              "Name: token, dtype: int64"
            ]
          },
          "metadata": {},
          "execution_count": 93
        }
      ]
    },
    {
      "cell_type": "code",
      "source": [
        "# Palabras distintas utilizadas por cada autor\n",
        "# ==============================================================================\n",
        "print('----------------------------')\n",
        "print('Palabras distintas por autor')\n",
        "print('----------------------------')\n",
        "tweets_tidy.groupby(by='autor')['token'].nunique()"
      ],
      "metadata": {
        "colab": {
          "base_uri": "https://localhost:8080/"
        },
        "id": "2cDPNntdQiPo",
        "outputId": "1a0a8093-42f9-4900-f7c0-6e62809e13ec"
      },
      "execution_count": 94,
      "outputs": [
        {
          "output_type": "stream",
          "name": "stdout",
          "text": [
            "----------------------------\n",
            "Palabras distintas por autor\n",
            "----------------------------\n"
          ]
        },
        {
          "output_type": "execute_result",
          "data": {
            "text/plain": [
              "autor\n",
              "filonewsOK    1866\n",
              "infobae       1443\n",
              "Name: token, dtype: int64"
            ]
          },
          "metadata": {},
          "execution_count": 94
        }
      ]
    },
    {
      "cell_type": "markdown",
      "source": [
        "Podemos observar que FiloNews en la misma cantidad de tweets (200) utiliza más palabras totales y a su vez emplea más palabras únicas."
      ],
      "metadata": {
        "id": "pP-g6OyQQ33N"
      }
    },
    {
      "cell_type": "markdown",
      "source": [
        "### Longitud media de los tweets"
      ],
      "metadata": {
        "id": "NEk3GSdTRaXz"
      }
    },
    {
      "cell_type": "code",
      "source": [
        "# Longitud media y desviación de los tweets de cada autor\n",
        "# ==============================================================================\n",
        "temp_df = pd.DataFrame(tweets_tidy.groupby(by = [\"autor\", \"id\"])[\"token\"].count())\n",
        "temp_df.reset_index().groupby(\"autor\")[\"token\"].agg(['mean', 'std'])"
      ],
      "metadata": {
        "colab": {
          "base_uri": "https://localhost:8080/",
          "height": 143
        },
        "id": "N8kOAlgdRWpM",
        "outputId": "fcbfd8e6-ede0-4b44-d28c-d7e9d5c40a08"
      },
      "execution_count": 95,
      "outputs": [
        {
          "output_type": "execute_result",
          "data": {
            "text/plain": [
              "              mean       std\n",
              "autor                       \n",
              "filonewsOK  22.545  8.726323\n",
              "infobae     16.365  4.315657"
            ],
            "text/html": [
              "\n",
              "  <div id=\"df-d36c9423-adf1-455e-b7d0-a689410f8515\">\n",
              "    <div class=\"colab-df-container\">\n",
              "      <div>\n",
              "<style scoped>\n",
              "    .dataframe tbody tr th:only-of-type {\n",
              "        vertical-align: middle;\n",
              "    }\n",
              "\n",
              "    .dataframe tbody tr th {\n",
              "        vertical-align: top;\n",
              "    }\n",
              "\n",
              "    .dataframe thead th {\n",
              "        text-align: right;\n",
              "    }\n",
              "</style>\n",
              "<table border=\"1\" class=\"dataframe\">\n",
              "  <thead>\n",
              "    <tr style=\"text-align: right;\">\n",
              "      <th></th>\n",
              "      <th>mean</th>\n",
              "      <th>std</th>\n",
              "    </tr>\n",
              "    <tr>\n",
              "      <th>autor</th>\n",
              "      <th></th>\n",
              "      <th></th>\n",
              "    </tr>\n",
              "  </thead>\n",
              "  <tbody>\n",
              "    <tr>\n",
              "      <th>filonewsOK</th>\n",
              "      <td>22.545</td>\n",
              "      <td>8.726323</td>\n",
              "    </tr>\n",
              "    <tr>\n",
              "      <th>infobae</th>\n",
              "      <td>16.365</td>\n",
              "      <td>4.315657</td>\n",
              "    </tr>\n",
              "  </tbody>\n",
              "</table>\n",
              "</div>\n",
              "      <button class=\"colab-df-convert\" onclick=\"convertToInteractive('df-d36c9423-adf1-455e-b7d0-a689410f8515')\"\n",
              "              title=\"Convert this dataframe to an interactive table.\"\n",
              "              style=\"display:none;\">\n",
              "        \n",
              "  <svg xmlns=\"http://www.w3.org/2000/svg\" height=\"24px\"viewBox=\"0 0 24 24\"\n",
              "       width=\"24px\">\n",
              "    <path d=\"M0 0h24v24H0V0z\" fill=\"none\"/>\n",
              "    <path d=\"M18.56 5.44l.94 2.06.94-2.06 2.06-.94-2.06-.94-.94-2.06-.94 2.06-2.06.94zm-11 1L8.5 8.5l.94-2.06 2.06-.94-2.06-.94L8.5 2.5l-.94 2.06-2.06.94zm10 10l.94 2.06.94-2.06 2.06-.94-2.06-.94-.94-2.06-.94 2.06-2.06.94z\"/><path d=\"M17.41 7.96l-1.37-1.37c-.4-.4-.92-.59-1.43-.59-.52 0-1.04.2-1.43.59L10.3 9.45l-7.72 7.72c-.78.78-.78 2.05 0 2.83L4 21.41c.39.39.9.59 1.41.59.51 0 1.02-.2 1.41-.59l7.78-7.78 2.81-2.81c.8-.78.8-2.07 0-2.86zM5.41 20L4 18.59l7.72-7.72 1.47 1.35L5.41 20z\"/>\n",
              "  </svg>\n",
              "      </button>\n",
              "      \n",
              "  <style>\n",
              "    .colab-df-container {\n",
              "      display:flex;\n",
              "      flex-wrap:wrap;\n",
              "      gap: 12px;\n",
              "    }\n",
              "\n",
              "    .colab-df-convert {\n",
              "      background-color: #E8F0FE;\n",
              "      border: none;\n",
              "      border-radius: 50%;\n",
              "      cursor: pointer;\n",
              "      display: none;\n",
              "      fill: #1967D2;\n",
              "      height: 32px;\n",
              "      padding: 0 0 0 0;\n",
              "      width: 32px;\n",
              "    }\n",
              "\n",
              "    .colab-df-convert:hover {\n",
              "      background-color: #E2EBFA;\n",
              "      box-shadow: 0px 1px 2px rgba(60, 64, 67, 0.3), 0px 1px 3px 1px rgba(60, 64, 67, 0.15);\n",
              "      fill: #174EA6;\n",
              "    }\n",
              "\n",
              "    [theme=dark] .colab-df-convert {\n",
              "      background-color: #3B4455;\n",
              "      fill: #D2E3FC;\n",
              "    }\n",
              "\n",
              "    [theme=dark] .colab-df-convert:hover {\n",
              "      background-color: #434B5C;\n",
              "      box-shadow: 0px 1px 3px 1px rgba(0, 0, 0, 0.15);\n",
              "      filter: drop-shadow(0px 1px 2px rgba(0, 0, 0, 0.3));\n",
              "      fill: #FFFFFF;\n",
              "    }\n",
              "  </style>\n",
              "\n",
              "      <script>\n",
              "        const buttonEl =\n",
              "          document.querySelector('#df-d36c9423-adf1-455e-b7d0-a689410f8515 button.colab-df-convert');\n",
              "        buttonEl.style.display =\n",
              "          google.colab.kernel.accessAllowed ? 'block' : 'none';\n",
              "\n",
              "        async function convertToInteractive(key) {\n",
              "          const element = document.querySelector('#df-d36c9423-adf1-455e-b7d0-a689410f8515');\n",
              "          const dataTable =\n",
              "            await google.colab.kernel.invokeFunction('convertToInteractive',\n",
              "                                                     [key], {});\n",
              "          if (!dataTable) return;\n",
              "\n",
              "          const docLinkHtml = 'Like what you see? Visit the ' +\n",
              "            '<a target=\"_blank\" href=https://colab.research.google.com/notebooks/data_table.ipynb>data table notebook</a>'\n",
              "            + ' to learn more about interactive tables.';\n",
              "          element.innerHTML = '';\n",
              "          dataTable['output_type'] = 'display_data';\n",
              "          await google.colab.output.renderOutput(dataTable, element);\n",
              "          const docLink = document.createElement('div');\n",
              "          docLink.innerHTML = docLinkHtml;\n",
              "          element.appendChild(docLink);\n",
              "        }\n",
              "      </script>\n",
              "    </div>\n",
              "  </div>\n",
              "  "
            ]
          },
          "metadata": {},
          "execution_count": 95
        }
      ]
    },
    {
      "cell_type": "markdown",
      "source": [
        "El tipo de tweet de FiloNews es más largo, pero también alterna más que Infobae entre tweets cortos y largos, siendo mayor la desviación de Filonews"
      ],
      "metadata": {
        "id": "K5thVK3UR1cL"
      }
    },
    {
      "cell_type": "markdown",
      "source": [
        "### 10 Palabras más utilizadas de cada medio"
      ],
      "metadata": {
        "id": "E_GfGmIvSYRO"
      }
    },
    {
      "cell_type": "code",
      "source": [
        "# Top palabras más utilizadas por cada autor\n",
        "# ==============================================================================\n",
        "tweets_tidy.groupby(['autor','token'])['token'] \\\n",
        " .count() \\\n",
        " .reset_index(name='count') \\\n",
        " .groupby('autor') \\\n",
        " .apply(lambda x: x.sort_values('count', ascending=False).head(10))"
      ],
      "metadata": {
        "colab": {
          "base_uri": "https://localhost:8080/",
          "height": 708
        },
        "id": "S49sTopSRZ1K",
        "outputId": "4622741b-4a32-4ffd-86be-d398e11ef00d"
      },
      "execution_count": 96,
      "outputs": [
        {
          "output_type": "execute_result",
          "data": {
            "text/plain": [
              "                      autor token  count\n",
              "autor                                   \n",
              "filonewsOK 405   filonewsOK    de    320\n",
              "           957   filonewsOK    la    210\n",
              "           536   filonewsOK    el    144\n",
              "           556   filonewsOK    en    144\n",
              "           1420  filonewsOK   que    122\n",
              "           1017  filonewsOK   los     73\n",
              "           422   filonewsOK   del     63\n",
              "           1331  filonewsOK   por     58\n",
              "           1559  filonewsOK    se     58\n",
              "           1736  filonewsOK    un     55\n",
              "infobae    2222     infobae    de    227\n",
              "           2622     infobae    la    147\n",
              "           2325     infobae    el    116\n",
              "           2345     infobae    en    103\n",
              "           2928     infobae   por     86\n",
              "           2979     infobae   que     74\n",
              "           3216     infobae    un     59\n",
              "           2235     infobae   del     52\n",
              "           2664     infobae   los     43\n",
              "           2852     infobae  para     35"
            ],
            "text/html": [
              "\n",
              "  <div id=\"df-f16c88d5-3797-4063-9201-5d104fdf99a4\">\n",
              "    <div class=\"colab-df-container\">\n",
              "      <div>\n",
              "<style scoped>\n",
              "    .dataframe tbody tr th:only-of-type {\n",
              "        vertical-align: middle;\n",
              "    }\n",
              "\n",
              "    .dataframe tbody tr th {\n",
              "        vertical-align: top;\n",
              "    }\n",
              "\n",
              "    .dataframe thead th {\n",
              "        text-align: right;\n",
              "    }\n",
              "</style>\n",
              "<table border=\"1\" class=\"dataframe\">\n",
              "  <thead>\n",
              "    <tr style=\"text-align: right;\">\n",
              "      <th></th>\n",
              "      <th></th>\n",
              "      <th>autor</th>\n",
              "      <th>token</th>\n",
              "      <th>count</th>\n",
              "    </tr>\n",
              "    <tr>\n",
              "      <th>autor</th>\n",
              "      <th></th>\n",
              "      <th></th>\n",
              "      <th></th>\n",
              "      <th></th>\n",
              "    </tr>\n",
              "  </thead>\n",
              "  <tbody>\n",
              "    <tr>\n",
              "      <th rowspan=\"10\" valign=\"top\">filonewsOK</th>\n",
              "      <th>405</th>\n",
              "      <td>filonewsOK</td>\n",
              "      <td>de</td>\n",
              "      <td>320</td>\n",
              "    </tr>\n",
              "    <tr>\n",
              "      <th>957</th>\n",
              "      <td>filonewsOK</td>\n",
              "      <td>la</td>\n",
              "      <td>210</td>\n",
              "    </tr>\n",
              "    <tr>\n",
              "      <th>536</th>\n",
              "      <td>filonewsOK</td>\n",
              "      <td>el</td>\n",
              "      <td>144</td>\n",
              "    </tr>\n",
              "    <tr>\n",
              "      <th>556</th>\n",
              "      <td>filonewsOK</td>\n",
              "      <td>en</td>\n",
              "      <td>144</td>\n",
              "    </tr>\n",
              "    <tr>\n",
              "      <th>1420</th>\n",
              "      <td>filonewsOK</td>\n",
              "      <td>que</td>\n",
              "      <td>122</td>\n",
              "    </tr>\n",
              "    <tr>\n",
              "      <th>1017</th>\n",
              "      <td>filonewsOK</td>\n",
              "      <td>los</td>\n",
              "      <td>73</td>\n",
              "    </tr>\n",
              "    <tr>\n",
              "      <th>422</th>\n",
              "      <td>filonewsOK</td>\n",
              "      <td>del</td>\n",
              "      <td>63</td>\n",
              "    </tr>\n",
              "    <tr>\n",
              "      <th>1331</th>\n",
              "      <td>filonewsOK</td>\n",
              "      <td>por</td>\n",
              "      <td>58</td>\n",
              "    </tr>\n",
              "    <tr>\n",
              "      <th>1559</th>\n",
              "      <td>filonewsOK</td>\n",
              "      <td>se</td>\n",
              "      <td>58</td>\n",
              "    </tr>\n",
              "    <tr>\n",
              "      <th>1736</th>\n",
              "      <td>filonewsOK</td>\n",
              "      <td>un</td>\n",
              "      <td>55</td>\n",
              "    </tr>\n",
              "    <tr>\n",
              "      <th rowspan=\"10\" valign=\"top\">infobae</th>\n",
              "      <th>2222</th>\n",
              "      <td>infobae</td>\n",
              "      <td>de</td>\n",
              "      <td>227</td>\n",
              "    </tr>\n",
              "    <tr>\n",
              "      <th>2622</th>\n",
              "      <td>infobae</td>\n",
              "      <td>la</td>\n",
              "      <td>147</td>\n",
              "    </tr>\n",
              "    <tr>\n",
              "      <th>2325</th>\n",
              "      <td>infobae</td>\n",
              "      <td>el</td>\n",
              "      <td>116</td>\n",
              "    </tr>\n",
              "    <tr>\n",
              "      <th>2345</th>\n",
              "      <td>infobae</td>\n",
              "      <td>en</td>\n",
              "      <td>103</td>\n",
              "    </tr>\n",
              "    <tr>\n",
              "      <th>2928</th>\n",
              "      <td>infobae</td>\n",
              "      <td>por</td>\n",
              "      <td>86</td>\n",
              "    </tr>\n",
              "    <tr>\n",
              "      <th>2979</th>\n",
              "      <td>infobae</td>\n",
              "      <td>que</td>\n",
              "      <td>74</td>\n",
              "    </tr>\n",
              "    <tr>\n",
              "      <th>3216</th>\n",
              "      <td>infobae</td>\n",
              "      <td>un</td>\n",
              "      <td>59</td>\n",
              "    </tr>\n",
              "    <tr>\n",
              "      <th>2235</th>\n",
              "      <td>infobae</td>\n",
              "      <td>del</td>\n",
              "      <td>52</td>\n",
              "    </tr>\n",
              "    <tr>\n",
              "      <th>2664</th>\n",
              "      <td>infobae</td>\n",
              "      <td>los</td>\n",
              "      <td>43</td>\n",
              "    </tr>\n",
              "    <tr>\n",
              "      <th>2852</th>\n",
              "      <td>infobae</td>\n",
              "      <td>para</td>\n",
              "      <td>35</td>\n",
              "    </tr>\n",
              "  </tbody>\n",
              "</table>\n",
              "</div>\n",
              "      <button class=\"colab-df-convert\" onclick=\"convertToInteractive('df-f16c88d5-3797-4063-9201-5d104fdf99a4')\"\n",
              "              title=\"Convert this dataframe to an interactive table.\"\n",
              "              style=\"display:none;\">\n",
              "        \n",
              "  <svg xmlns=\"http://www.w3.org/2000/svg\" height=\"24px\"viewBox=\"0 0 24 24\"\n",
              "       width=\"24px\">\n",
              "    <path d=\"M0 0h24v24H0V0z\" fill=\"none\"/>\n",
              "    <path d=\"M18.56 5.44l.94 2.06.94-2.06 2.06-.94-2.06-.94-.94-2.06-.94 2.06-2.06.94zm-11 1L8.5 8.5l.94-2.06 2.06-.94-2.06-.94L8.5 2.5l-.94 2.06-2.06.94zm10 10l.94 2.06.94-2.06 2.06-.94-2.06-.94-.94-2.06-.94 2.06-2.06.94z\"/><path d=\"M17.41 7.96l-1.37-1.37c-.4-.4-.92-.59-1.43-.59-.52 0-1.04.2-1.43.59L10.3 9.45l-7.72 7.72c-.78.78-.78 2.05 0 2.83L4 21.41c.39.39.9.59 1.41.59.51 0 1.02-.2 1.41-.59l7.78-7.78 2.81-2.81c.8-.78.8-2.07 0-2.86zM5.41 20L4 18.59l7.72-7.72 1.47 1.35L5.41 20z\"/>\n",
              "  </svg>\n",
              "      </button>\n",
              "      \n",
              "  <style>\n",
              "    .colab-df-container {\n",
              "      display:flex;\n",
              "      flex-wrap:wrap;\n",
              "      gap: 12px;\n",
              "    }\n",
              "\n",
              "    .colab-df-convert {\n",
              "      background-color: #E8F0FE;\n",
              "      border: none;\n",
              "      border-radius: 50%;\n",
              "      cursor: pointer;\n",
              "      display: none;\n",
              "      fill: #1967D2;\n",
              "      height: 32px;\n",
              "      padding: 0 0 0 0;\n",
              "      width: 32px;\n",
              "    }\n",
              "\n",
              "    .colab-df-convert:hover {\n",
              "      background-color: #E2EBFA;\n",
              "      box-shadow: 0px 1px 2px rgba(60, 64, 67, 0.3), 0px 1px 3px 1px rgba(60, 64, 67, 0.15);\n",
              "      fill: #174EA6;\n",
              "    }\n",
              "\n",
              "    [theme=dark] .colab-df-convert {\n",
              "      background-color: #3B4455;\n",
              "      fill: #D2E3FC;\n",
              "    }\n",
              "\n",
              "    [theme=dark] .colab-df-convert:hover {\n",
              "      background-color: #434B5C;\n",
              "      box-shadow: 0px 1px 3px 1px rgba(0, 0, 0, 0.15);\n",
              "      filter: drop-shadow(0px 1px 2px rgba(0, 0, 0, 0.3));\n",
              "      fill: #FFFFFF;\n",
              "    }\n",
              "  </style>\n",
              "\n",
              "      <script>\n",
              "        const buttonEl =\n",
              "          document.querySelector('#df-f16c88d5-3797-4063-9201-5d104fdf99a4 button.colab-df-convert');\n",
              "        buttonEl.style.display =\n",
              "          google.colab.kernel.accessAllowed ? 'block' : 'none';\n",
              "\n",
              "        async function convertToInteractive(key) {\n",
              "          const element = document.querySelector('#df-f16c88d5-3797-4063-9201-5d104fdf99a4');\n",
              "          const dataTable =\n",
              "            await google.colab.kernel.invokeFunction('convertToInteractive',\n",
              "                                                     [key], {});\n",
              "          if (!dataTable) return;\n",
              "\n",
              "          const docLinkHtml = 'Like what you see? Visit the ' +\n",
              "            '<a target=\"_blank\" href=https://colab.research.google.com/notebooks/data_table.ipynb>data table notebook</a>'\n",
              "            + ' to learn more about interactive tables.';\n",
              "          element.innerHTML = '';\n",
              "          dataTable['output_type'] = 'display_data';\n",
              "          await google.colab.output.renderOutput(dataTable, element);\n",
              "          const docLink = document.createElement('div');\n",
              "          docLink.innerHTML = docLinkHtml;\n",
              "          element.appendChild(docLink);\n",
              "        }\n",
              "      </script>\n",
              "    </div>\n",
              "  </div>\n",
              "  "
            ]
          },
          "metadata": {},
          "execution_count": 96
        }
      ]
    },
    {
      "cell_type": "markdown",
      "source": [
        "###Stop words\n",
        "\n",
        "\n",
        "En la tabla anterior puede observarse que los términos más frecuentes en todos los usuarios se corresponden con artículos, preposiciones, pronombres…, en general, palabras que no aportan información relevante sobre el texto. Ha estas palabras se les conoce como stopwords."
      ],
      "metadata": {
        "id": "ZxsZz3zcTPGg"
      }
    },
    {
      "cell_type": "code",
      "source": [
        "print(stopwords.words('spanish'))"
      ],
      "metadata": {
        "colab": {
          "base_uri": "https://localhost:8080/"
        },
        "id": "Q7zvljziYEsz",
        "outputId": "eb2e7111-602f-4ca8-ba47-183fea9beb41"
      },
      "execution_count": 97,
      "outputs": [
        {
          "output_type": "stream",
          "name": "stdout",
          "text": [
            "['de', 'la', 'que', 'el', 'en', 'y', 'a', 'los', 'del', 'se', 'las', 'por', 'un', 'para', 'con', 'no', 'una', 'su', 'al', 'lo', 'como', 'más', 'pero', 'sus', 'le', 'ya', 'o', 'este', 'sí', 'porque', 'esta', 'entre', 'cuando', 'muy', 'sin', 'sobre', 'también', 'me', 'hasta', 'hay', 'donde', 'quien', 'desde', 'todo', 'nos', 'durante', 'todos', 'uno', 'les', 'ni', 'contra', 'otros', 'ese', 'eso', 'ante', 'ellos', 'e', 'esto', 'mí', 'antes', 'algunos', 'qué', 'unos', 'yo', 'otro', 'otras', 'otra', 'él', 'tanto', 'esa', 'estos', 'mucho', 'quienes', 'nada', 'muchos', 'cual', 'poco', 'ella', 'estar', 'estas', 'algunas', 'algo', 'nosotros', 'mi', 'mis', 'tú', 'te', 'ti', 'tu', 'tus', 'ellas', 'nosotras', 'vosotros', 'vosotras', 'os', 'mío', 'mía', 'míos', 'mías', 'tuyo', 'tuya', 'tuyos', 'tuyas', 'suyo', 'suya', 'suyos', 'suyas', 'nuestro', 'nuestra', 'nuestros', 'nuestras', 'vuestro', 'vuestra', 'vuestros', 'vuestras', 'esos', 'esas', 'estoy', 'estás', 'está', 'estamos', 'estáis', 'están', 'esté', 'estés', 'estemos', 'estéis', 'estén', 'estaré', 'estarás', 'estará', 'estaremos', 'estaréis', 'estarán', 'estaría', 'estarías', 'estaríamos', 'estaríais', 'estarían', 'estaba', 'estabas', 'estábamos', 'estabais', 'estaban', 'estuve', 'estuviste', 'estuvo', 'estuvimos', 'estuvisteis', 'estuvieron', 'estuviera', 'estuvieras', 'estuviéramos', 'estuvierais', 'estuvieran', 'estuviese', 'estuvieses', 'estuviésemos', 'estuvieseis', 'estuviesen', 'estando', 'estado', 'estada', 'estados', 'estadas', 'estad', 'he', 'has', 'ha', 'hemos', 'habéis', 'han', 'haya', 'hayas', 'hayamos', 'hayáis', 'hayan', 'habré', 'habrás', 'habrá', 'habremos', 'habréis', 'habrán', 'habría', 'habrías', 'habríamos', 'habríais', 'habrían', 'había', 'habías', 'habíamos', 'habíais', 'habían', 'hube', 'hubiste', 'hubo', 'hubimos', 'hubisteis', 'hubieron', 'hubiera', 'hubieras', 'hubiéramos', 'hubierais', 'hubieran', 'hubiese', 'hubieses', 'hubiésemos', 'hubieseis', 'hubiesen', 'habiendo', 'habido', 'habida', 'habidos', 'habidas', 'soy', 'eres', 'es', 'somos', 'sois', 'son', 'sea', 'seas', 'seamos', 'seáis', 'sean', 'seré', 'serás', 'será', 'seremos', 'seréis', 'serán', 'sería', 'serías', 'seríamos', 'seríais', 'serían', 'era', 'eras', 'éramos', 'erais', 'eran', 'fui', 'fuiste', 'fue', 'fuimos', 'fuisteis', 'fueron', 'fuera', 'fueras', 'fuéramos', 'fuerais', 'fueran', 'fuese', 'fueses', 'fuésemos', 'fueseis', 'fuesen', 'sintiendo', 'sentido', 'sentida', 'sentidos', 'sentidas', 'siente', 'sentid', 'tengo', 'tienes', 'tiene', 'tenemos', 'tenéis', 'tienen', 'tenga', 'tengas', 'tengamos', 'tengáis', 'tengan', 'tendré', 'tendrás', 'tendrá', 'tendremos', 'tendréis', 'tendrán', 'tendría', 'tendrías', 'tendríamos', 'tendríais', 'tendrían', 'tenía', 'tenías', 'teníamos', 'teníais', 'tenían', 'tuve', 'tuviste', 'tuvo', 'tuvimos', 'tuvisteis', 'tuvieron', 'tuviera', 'tuvieras', 'tuviéramos', 'tuvierais', 'tuvieran', 'tuviese', 'tuvieses', 'tuviésemos', 'tuvieseis', 'tuviesen', 'teniendo', 'tenido', 'tenida', 'tenidos', 'tenidas', 'tened']\n"
          ]
        }
      ]
    },
    {
      "cell_type": "code",
      "source": [
        "# Obtención de listado de stopwords en español\n",
        "# ==============================================================================\n",
        "stop_words = list(stopwords.words('spanish'))\n",
        "# Se añaden preposiciones a la stoprword: cómo, \n",
        "stop_words.extend((\"bajo\", \"cabe\", \"con\", \"contra\", \"de\", \"desde\", \"durante\", \"en\", \"entre\", \"hacia\", \"hasta\", \"mediante\", \"para\", \"por\", \"según\", \"sin\", \"sobre\", \"tras\", \"versus\"))\n",
        "print(stop_words[:10])"
      ],
      "metadata": {
        "colab": {
          "base_uri": "https://localhost:8080/"
        },
        "id": "C6iqOoU-TmR2",
        "outputId": "24117846-2038-4b3d-aa0d-9d15d12aacc7"
      },
      "execution_count": 98,
      "outputs": [
        {
          "output_type": "stream",
          "name": "stdout",
          "text": [
            "['de', 'la', 'que', 'el', 'en', 'y', 'a', 'los', 'del', 'se']\n"
          ]
        }
      ]
    },
    {
      "cell_type": "code",
      "source": [
        "# Filtrado para excluir stopwords\n",
        "# ==============================================================================\n",
        "tweets_tidy = tweets_tidy[~(tweets_tidy[\"token\"].isin(stop_words))]"
      ],
      "metadata": {
        "id": "bUHz1MwSZAmb"
      },
      "execution_count": 99,
      "outputs": []
    },
    {
      "cell_type": "code",
      "source": [
        "# Top 10 palabras por autor (sin stopwords)\n",
        "# ==============================================================================\n",
        "fig, axs = plt.subplots(nrows=2, ncols=1,figsize=(6, 7))\n",
        "for i, autor in enumerate(tweets_tidy.autor.unique()):\n",
        "    df_temp = tweets_tidy[tweets_tidy.autor == autor]\n",
        "    counts  = df_temp['token'].value_counts(ascending=False).head(10)\n",
        "    counts.plot(kind='barh', color='firebrick', ax=axs[i])\n",
        "    axs[i].invert_yaxis()\n",
        "    axs[i].set_title(autor)\n",
        "\n",
        "fig.tight_layout()"
      ],
      "metadata": {
        "colab": {
          "base_uri": "https://localhost:8080/",
          "height": 513
        },
        "id": "sobkLzMMZHnf",
        "outputId": "b28c5fcf-95d6-456e-f2fa-9f9b8bc51dda"
      },
      "execution_count": 100,
      "outputs": [
        {
          "output_type": "display_data",
          "data": {
            "text/plain": [
              "<Figure size 432x504 with 2 Axes>"
            ],
            "image/png": "[encoded data removed]"
          },
          "metadata": {
            "needs_background": "light"
          }
        }
      ]
    },
    {
      "cell_type": "markdown",
      "source": [
        "###Correlación entre autores"
      ],
      "metadata": {
        "id": "JXab0fcob_36"
      }
    },
    {
      "cell_type": "code",
      "source": [
        "# Pivotado de datos\n",
        "# ==============================================================================\n",
        "tweets_pivot = tweets_tidy.groupby([\"autor\",\"token\"])[\"token\"] \\\n",
        "                .agg([\"count\"]).reset_index() \\\n",
        "                .pivot(index = \"token\" , columns=\"autor\", values= \"count\")\n",
        "tweets_pivot.columns.name = None"
      ],
      "metadata": {
        "id": "Ro7sOed3cB1e"
      },
      "execution_count": 101,
      "outputs": []
    },
    {
      "cell_type": "code",
      "source": [
        "# Test de correlación (coseno) por el uso y frecuencia de palabras\n",
        "# ==============================================================================\n",
        "from scipy.spatial.distance import cosine\n",
        "\n",
        "def similitud_coseno(a,b):\n",
        "    distancia = cosine(a,b)\n",
        "    return 1-distancia\n",
        "\n",
        "tweets_pivot.corr(method=similitud_coseno)"
      ],
      "metadata": {
        "colab": {
          "base_uri": "https://localhost:8080/",
          "height": 112
        },
        "id": "9oJh0bTxcQLw",
        "outputId": "9976cac2-99a3-44e3-a12b-b7f91d710d6b"
      },
      "execution_count": 102,
      "outputs": [
        {
          "output_type": "execute_result",
          "data": {
            "text/plain": [
              "            filonewsOK   infobae\n",
              "filonewsOK    1.000000  0.764539\n",
              "infobae       0.764539  1.000000"
            ],
            "text/html": [
              "\n",
              "  <div id=\"df-8d2c05bc-c974-4880-a276-8a7259625dac\">\n",
              "    <div class=\"colab-df-container\">\n",
              "      <div>\n",
              "<style scoped>\n",
              "    .dataframe tbody tr th:only-of-type {\n",
              "        vertical-align: middle;\n",
              "    }\n",
              "\n",
              "    .dataframe tbody tr th {\n",
              "        vertical-align: top;\n",
              "    }\n",
              "\n",
              "    .dataframe thead th {\n",
              "        text-align: right;\n",
              "    }\n",
              "</style>\n",
              "<table border=\"1\" class=\"dataframe\">\n",
              "  <thead>\n",
              "    <tr style=\"text-align: right;\">\n",
              "      <th></th>\n",
              "      <th>filonewsOK</th>\n",
              "      <th>infobae</th>\n",
              "    </tr>\n",
              "  </thead>\n",
              "  <tbody>\n",
              "    <tr>\n",
              "      <th>filonewsOK</th>\n",
              "      <td>1.000000</td>\n",
              "      <td>0.764539</td>\n",
              "    </tr>\n",
              "    <tr>\n",
              "      <th>infobae</th>\n",
              "      <td>0.764539</td>\n",
              "      <td>1.000000</td>\n",
              "    </tr>\n",
              "  </tbody>\n",
              "</table>\n",
              "</div>\n",
              "      <button class=\"colab-df-convert\" onclick=\"convertToInteractive('df-8d2c05bc-c974-4880-a276-8a7259625dac')\"\n",
              "              title=\"Convert this dataframe to an interactive table.\"\n",
              "              style=\"display:none;\">\n",
              "        \n",
              "  <svg xmlns=\"http://www.w3.org/2000/svg\" height=\"24px\"viewBox=\"0 0 24 24\"\n",
              "       width=\"24px\">\n",
              "    <path d=\"M0 0h24v24H0V0z\" fill=\"none\"/>\n",
              "    <path d=\"M18.56 5.44l.94 2.06.94-2.06 2.06-.94-2.06-.94-.94-2.06-.94 2.06-2.06.94zm-11 1L8.5 8.5l.94-2.06 2.06-.94-2.06-.94L8.5 2.5l-.94 2.06-2.06.94zm10 10l.94 2.06.94-2.06 2.06-.94-2.06-.94-.94-2.06-.94 2.06-2.06.94z\"/><path d=\"M17.41 7.96l-1.37-1.37c-.4-.4-.92-.59-1.43-.59-.52 0-1.04.2-1.43.59L10.3 9.45l-7.72 7.72c-.78.78-.78 2.05 0 2.83L4 21.41c.39.39.9.59 1.41.59.51 0 1.02-.2 1.41-.59l7.78-7.78 2.81-2.81c.8-.78.8-2.07 0-2.86zM5.41 20L4 18.59l7.72-7.72 1.47 1.35L5.41 20z\"/>\n",
              "  </svg>\n",
              "      </button>\n",
              "      \n",
              "  <style>\n",
              "    .colab-df-container {\n",
              "      display:flex;\n",
              "      flex-wrap:wrap;\n",
              "      gap: 12px;\n",
              "    }\n",
              "\n",
              "    .colab-df-convert {\n",
              "      background-color: #E8F0FE;\n",
              "      border: none;\n",
              "      border-radius: 50%;\n",
              "      cursor: pointer;\n",
              "      display: none;\n",
              "      fill: #1967D2;\n",
              "      height: 32px;\n",
              "      padding: 0 0 0 0;\n",
              "      width: 32px;\n",
              "    }\n",
              "\n",
              "    .colab-df-convert:hover {\n",
              "      background-color: #E2EBFA;\n",
              "      box-shadow: 0px 1px 2px rgba(60, 64, 67, 0.3), 0px 1px 3px 1px rgba(60, 64, 67, 0.15);\n",
              "      fill: #174EA6;\n",
              "    }\n",
              "\n",
              "    [theme=dark] .colab-df-convert {\n",
              "      background-color: #3B4455;\n",
              "      fill: #D2E3FC;\n",
              "    }\n",
              "\n",
              "    [theme=dark] .colab-df-convert:hover {\n",
              "      background-color: #434B5C;\n",
              "      box-shadow: 0px 1px 3px 1px rgba(0, 0, 0, 0.15);\n",
              "      filter: drop-shadow(0px 1px 2px rgba(0, 0, 0, 0.3));\n",
              "      fill: #FFFFFF;\n",
              "    }\n",
              "  </style>\n",
              "\n",
              "      <script>\n",
              "        const buttonEl =\n",
              "          document.querySelector('#df-8d2c05bc-c974-4880-a276-8a7259625dac button.colab-df-convert');\n",
              "        buttonEl.style.display =\n",
              "          google.colab.kernel.accessAllowed ? 'block' : 'none';\n",
              "\n",
              "        async function convertToInteractive(key) {\n",
              "          const element = document.querySelector('#df-8d2c05bc-c974-4880-a276-8a7259625dac');\n",
              "          const dataTable =\n",
              "            await google.colab.kernel.invokeFunction('convertToInteractive',\n",
              "                                                     [key], {});\n",
              "          if (!dataTable) return;\n",
              "\n",
              "          const docLinkHtml = 'Like what you see? Visit the ' +\n",
              "            '<a target=\"_blank\" href=https://colab.research.google.com/notebooks/data_table.ipynb>data table notebook</a>'\n",
              "            + ' to learn more about interactive tables.';\n",
              "          element.innerHTML = '';\n",
              "          dataTable['output_type'] = 'display_data';\n",
              "          await google.colab.output.renderOutput(dataTable, element);\n",
              "          const docLink = document.createElement('div');\n",
              "          docLink.innerHTML = docLinkHtml;\n",
              "          element.appendChild(docLink);\n",
              "        }\n",
              "      </script>\n",
              "    </div>\n",
              "  </div>\n",
              "  "
            ]
          },
          "metadata": {},
          "execution_count": 102
        }
      ]
    },
    {
      "cell_type": "code",
      "source": [
        "\n",
        "# Gráfico de correlación\n",
        "# ==============================================================================\n",
        "fig, ax = plt.subplots(figsize=(6, 4))\n",
        "temp = tweets_pivot.dropna()\n",
        "sns.regplot(\n",
        "    x  = np.log(temp.filonewsOK),\n",
        "    y  = np.log(temp.infobae),\n",
        "    scatter_kws =  {'alpha': 0.05},\n",
        "    ax = ax\n",
        ");\n",
        "for i in np.random.choice(range(temp.shape[0]), 100):\n",
        "    ax.annotate(\n",
        "        text  = temp.index[i],\n",
        "        xy    = (np.log(temp.filonewsOK[i]), np.log(temp.infobae[i])),\n",
        "         alpha = 0.7\n",
        "        )"
      ],
      "metadata": {
        "colab": {
          "base_uri": "https://localhost:8080/",
          "height": 282
        },
        "id": "BZBiMC3Nc4WD",
        "outputId": "d8478ce9-e4ef-4e87-ad40-1ed382066ca2"
      },
      "execution_count": 103,
      "outputs": [
        {
          "output_type": "display_data",
          "data": {
            "text/plain": [
              "<Figure size 432x288 with 1 Axes>"
            ],
            "image/png": "[encoded data removed]"
          },
          "metadata": {
            "needs_background": "light"
          }
        }
      ]
    },
    {
      "cell_type": "markdown",
      "source": [],
      "metadata": {
        "id": "yQiwXqdUJIg6"
      }
    },
    {
      "cell_type": "code",
      "source": [
        "# Número de palabras comunes\n",
        "# ==============================================================================\n",
        "palabras_infobae = set(tweets_tidy[tweets_tidy.autor == \"infobae\"][\"token\"])\n",
        "palabras_filonews = set(tweets_tidy[tweets_tidy.autor == \"filonewsOK\"][\"token\"])\n",
        "\n",
        "print(f'Palabras comunes entre ambos medios:{len(palabras_filonews.intersection(palabras_infobae))}')"
      ],
      "metadata": {
        "id": "Gc35V4kq7pMk",
        "colab": {
          "base_uri": "https://localhost:8080/"
        },
        "outputId": "6ca4a84e-64ff-4a33-ce31-bb2fa9e3f235"
      },
      "execution_count": 104,
      "outputs": [
        {
          "output_type": "stream",
          "name": "stdout",
          "text": [
            "Palabras comunes entre ambos medios:348\n"
          ]
        }
      ]
    },
    {
      "cell_type": "markdown",
      "source": [
        "###Comparación en el uso de palabras"
      ],
      "metadata": {
        "id": "aF7IPDlvL1pC"
      }
    },
    {
      "cell_type": "code",
      "source": [
        "# Cálculo del log of odds ratio de cada palabra (filonews vs infobae)\n",
        "# ==============================================================================\n",
        "# Pivotaje y despivotaje\n",
        "tweets_pivot = tweets_tidy.groupby([\"autor\",\"token\"])[\"token\"] \\\n",
        "                .agg([\"count\"]).reset_index() \\\n",
        "                .pivot(index = \"token\" , columns=\"autor\", values= \"count\")\n",
        "\n",
        "tweets_pivot = tweets_pivot.fillna(value=0)\n",
        "tweets_pivot.columns.name = None\n",
        "\n",
        "\n",
        "tweets_unpivot = tweets_pivot.melt(value_name='n', var_name='autor', ignore_index=False)\n",
        "tweets_unpivot = tweets_unpivot.reset_index()\n",
        "\n",
        "# Selección de los autores filonews y infobae\n",
        "tweets_unpivot = tweets_unpivot[tweets_unpivot.autor.isin(['filonewsOK', 'infobae'])]\n",
        "\n",
        "# Se añade el total de palabras de cada autor\n",
        "tweets_unpivot = tweets_unpivot.merge(\n",
        "                    tweets_tidy.groupby('autor')['token'].count().rename('N'),\n",
        "                    how = 'left',\n",
        "                    on  = 'autor'\n",
        "                 )\n",
        "\n",
        "# Cálculo de odds y log of odds de cada palabra\n",
        "tweets_logOdds = tweets_unpivot.copy()\n",
        "tweets_logOdds['odds'] = (tweets_logOdds.n + 1) / (tweets_logOdds.N + 1)\n",
        "tweets_logOdds = tweets_logOdds[['token', 'autor', 'odds']] \\\n",
        "                    .pivot(index='token', columns='autor', values='odds')\n",
        "tweets_logOdds.columns.name = None\n",
        "\n",
        "tweets_logOdds['log_odds']     = np.log(tweets_logOdds.filonewsOK/tweets_logOdds.infobae)\n",
        "tweets_logOdds['abs_log_odds'] = np.abs(tweets_logOdds.log_odds)\n",
        "\n",
        "# Si el logaritmo de odds es mayor que cero, significa que es una palabra con\n",
        "# mayor probabilidad de ser de filonews. Esto es así porque el ratio sea ha\n",
        "# calculado como filonews/infobae.\n",
        "tweets_logOdds['autor_frecuente'] = np.where(tweets_logOdds.log_odds > 0,\n",
        "                                              \"filonewsOk\",\n",
        "                                              \"infobae\"\n",
        "                                    )"
      ],
      "metadata": {
        "id": "eML4DltRL0-e"
      },
      "execution_count": 105,
      "outputs": []
    },
    {
      "cell_type": "code",
      "source": [
        "print('-----------------------------------')\n",
        "print('Top 10 palabras más diferenciadoras')\n",
        "print('-----------------------------------')\n",
        "tweets_logOdds.sort_values('abs_log_odds', ascending=False).head(20)"
      ],
      "metadata": {
        "colab": {
          "base_uri": "https://localhost:8080/",
          "height": 762
        },
        "id": "ClpBL4JwODen",
        "outputId": "ba52a604-02fc-496e-ffef-69394e51e133"
      },
      "execution_count": 106,
      "outputs": [
        {
          "output_type": "stream",
          "name": "stdout",
          "text": [
            "-----------------------------------\n",
            "Top 10 palabras más diferenciadoras\n",
            "-----------------------------------\n"
          ]
        },
        {
          "output_type": "execute_result",
          "data": {
            "text/plain": [
              "            filonewsOK   infobae  log_odds  abs_log_odds autor_frecuente\n",
              "token                                                                   \n",
              "carolina      0.000384  0.004171 -2.384823      2.384823         infobae\n",
              "bayón         0.000384  0.003650 -2.251292      2.251292         infobae\n",
              "ahora         0.000384  0.003650 -2.251292      2.251292         infobae\n",
              "rt            0.000384  0.003650 -2.251292      2.251292         infobae\n",
              "carlos        0.000384  0.003650 -2.251292      2.251292         infobae\n",
              "opinión       0.000384  0.003650 -2.251292      2.251292         infobae\n",
              "fotos         0.000384  0.003128 -2.097141      2.097141         infobae\n",
              "ley           0.000384  0.003128 -2.097141      2.097141         infobae\n",
              "mirá          0.004226  0.000521  2.092514      2.092514      filonewsOk\n",
              "⭕️            0.003842  0.000521  1.997203      1.997203      filonewsOk\n",
              "siempre       0.003842  0.000521  1.997203      1.997203      filonewsOk\n",
              "eeuu          0.000384  0.002607 -1.914820      1.914820         infobae\n",
              "sequía        0.000384  0.002607 -1.914820      1.914820         infobae\n",
              "humedales     0.000384  0.002607 -1.914820      1.914820         infobae\n",
              "soledad       0.000384  0.002607 -1.914820      1.914820         infobae\n",
              "saber         0.000384  0.002607 -1.914820      1.914820         infobae\n",
              "inglaterra    0.000384  0.002607 -1.914820      1.914820         infobae\n",
              "kim           0.000384  0.002607 -1.914820      1.914820         infobae\n",
              "tasas         0.000384  0.002607 -1.914820      1.914820         infobae\n",
              "star          0.000384  0.002607 -1.914820      1.914820         infobae"
            ],
            "text/html": [
              "\n",
              "  <div id=\"df-bfa615a8-2268-4a59-804f-d8bf3fe87a6f\">\n",
              "    <div class=\"colab-df-container\">\n",
              "      <div>\n",
              "<style scoped>\n",
              "    .dataframe tbody tr th:only-of-type {\n",
              "        vertical-align: middle;\n",
              "    }\n",
              "\n",
              "    .dataframe tbody tr th {\n",
              "        vertical-align: top;\n",
              "    }\n",
              "\n",
              "    .dataframe thead th {\n",
              "        text-align: right;\n",
              "    }\n",
              "</style>\n",
              "<table border=\"1\" class=\"dataframe\">\n",
              "  <thead>\n",
              "    <tr style=\"text-align: right;\">\n",
              "      <th></th>\n",
              "      <th>filonewsOK</th>\n",
              "      <th>infobae</th>\n",
              "      <th>log_odds</th>\n",
              "      <th>abs_log_odds</th>\n",
              "      <th>autor_frecuente</th>\n",
              "    </tr>\n",
              "    <tr>\n",
              "      <th>token</th>\n",
              "      <th></th>\n",
              "      <th></th>\n",
              "      <th></th>\n",
              "      <th></th>\n",
              "      <th></th>\n",
              "    </tr>\n",
              "  </thead>\n",
              "  <tbody>\n",
              "    <tr>\n",
              "      <th>carolina</th>\n",
              "      <td>0.000384</td>\n",
              "      <td>0.004171</td>\n",
              "      <td>-2.384823</td>\n",
              "      <td>2.384823</td>\n",
              "      <td>infobae</td>\n",
              "    </tr>\n",
              "    <tr>\n",
              "      <th>bayón</th>\n",
              "      <td>0.000384</td>\n",
              "      <td>0.003650</td>\n",
              "      <td>-2.251292</td>\n",
              "      <td>2.251292</td>\n",
              "      <td>infobae</td>\n",
              "    </tr>\n",
              "    <tr>\n",
              "      <th>ahora</th>\n",
              "      <td>0.000384</td>\n",
              "      <td>0.003650</td>\n",
              "      <td>-2.251292</td>\n",
              "      <td>2.251292</td>\n",
              "      <td>infobae</td>\n",
              "    </tr>\n",
              "    <tr>\n",
              "      <th>rt</th>\n",
              "      <td>0.000384</td>\n",
              "      <td>0.003650</td>\n",
              "      <td>-2.251292</td>\n",
              "      <td>2.251292</td>\n",
              "      <td>infobae</td>\n",
              "    </tr>\n",
              "    <tr>\n",
              "      <th>carlos</th>\n",
              "      <td>0.000384</td>\n",
              "      <td>0.003650</td>\n",
              "      <td>-2.251292</td>\n",
              "      <td>2.251292</td>\n",
              "      <td>infobae</td>\n",
              "    </tr>\n",
              "    <tr>\n",
              "      <th>opinión</th>\n",
              "      <td>0.000384</td>\n",
              "      <td>0.003650</td>\n",
              "      <td>-2.251292</td>\n",
              "      <td>2.251292</td>\n",
              "      <td>infobae</td>\n",
              "    </tr>\n",
              "    <tr>\n",
              "      <th>fotos</th>\n",
              "      <td>0.000384</td>\n",
              "      <td>0.003128</td>\n",
              "      <td>-2.097141</td>\n",
              "      <td>2.097141</td>\n",
              "      <td>infobae</td>\n",
              "    </tr>\n",
              "    <tr>\n",
              "      <th>ley</th>\n",
              "      <td>0.000384</td>\n",
              "      <td>0.003128</td>\n",
              "      <td>-2.097141</td>\n",
              "      <td>2.097141</td>\n",
              "      <td>infobae</td>\n",
              "    </tr>\n",
              "    <tr>\n",
              "      <th>mirá</th>\n",
              "      <td>0.004226</td>\n",
              "      <td>0.000521</td>\n",
              "      <td>2.092514</td>\n",
              "      <td>2.092514</td>\n",
              "      <td>filonewsOk</td>\n",
              "    </tr>\n",
              "    <tr>\n",
              "      <th>⭕️</th>\n",
              "      <td>0.003842</td>\n",
              "      <td>0.000521</td>\n",
              "      <td>1.997203</td>\n",
              "      <td>1.997203</td>\n",
              "      <td>filonewsOk</td>\n",
              "    </tr>\n",
              "    <tr>\n",
              "      <th>siempre</th>\n",
              "      <td>0.003842</td>\n",
              "      <td>0.000521</td>\n",
              "      <td>1.997203</td>\n",
              "      <td>1.997203</td>\n",
              "      <td>filonewsOk</td>\n",
              "    </tr>\n",
              "    <tr>\n",
              "      <th>eeuu</th>\n",
              "      <td>0.000384</td>\n",
              "      <td>0.002607</td>\n",
              "      <td>-1.914820</td>\n",
              "      <td>1.914820</td>\n",
              "      <td>infobae</td>\n",
              "    </tr>\n",
              "    <tr>\n",
              "      <th>sequía</th>\n",
              "      <td>0.000384</td>\n",
              "      <td>0.002607</td>\n",
              "      <td>-1.914820</td>\n",
              "      <td>1.914820</td>\n",
              "      <td>infobae</td>\n",
              "    </tr>\n",
              "    <tr>\n",
              "      <th>humedales</th>\n",
              "      <td>0.000384</td>\n",
              "      <td>0.002607</td>\n",
              "      <td>-1.914820</td>\n",
              "      <td>1.914820</td>\n",
              "      <td>infobae</td>\n",
              "    </tr>\n",
              "    <tr>\n",
              "      <th>soledad</th>\n",
              "      <td>0.000384</td>\n",
              "      <td>0.002607</td>\n",
              "      <td>-1.914820</td>\n",
              "      <td>1.914820</td>\n",
              "      <td>infobae</td>\n",
              "    </tr>\n",
              "    <tr>\n",
              "      <th>saber</th>\n",
              "      <td>0.000384</td>\n",
              "      <td>0.002607</td>\n",
              "      <td>-1.914820</td>\n",
              "      <td>1.914820</td>\n",
              "      <td>infobae</td>\n",
              "    </tr>\n",
              "    <tr>\n",
              "      <th>inglaterra</th>\n",
              "      <td>0.000384</td>\n",
              "      <td>0.002607</td>\n",
              "      <td>-1.914820</td>\n",
              "      <td>1.914820</td>\n",
              "      <td>infobae</td>\n",
              "    </tr>\n",
              "    <tr>\n",
              "      <th>kim</th>\n",
              "      <td>0.000384</td>\n",
              "      <td>0.002607</td>\n",
              "      <td>-1.914820</td>\n",
              "      <td>1.914820</td>\n",
              "      <td>infobae</td>\n",
              "    </tr>\n",
              "    <tr>\n",
              "      <th>tasas</th>\n",
              "      <td>0.000384</td>\n",
              "      <td>0.002607</td>\n",
              "      <td>-1.914820</td>\n",
              "      <td>1.914820</td>\n",
              "      <td>infobae</td>\n",
              "    </tr>\n",
              "    <tr>\n",
              "      <th>star</th>\n",
              "      <td>0.000384</td>\n",
              "      <td>0.002607</td>\n",
              "      <td>-1.914820</td>\n",
              "      <td>1.914820</td>\n",
              "      <td>infobae</td>\n",
              "    </tr>\n",
              "  </tbody>\n",
              "</table>\n",
              "</div>\n",
              "      <button class=\"colab-df-convert\" onclick=\"convertToInteractive('df-bfa615a8-2268-4a59-804f-d8bf3fe87a6f')\"\n",
              "              title=\"Convert this dataframe to an interactive table.\"\n",
              "              style=\"display:none;\">\n",
              "        \n",
              "  <svg xmlns=\"http://www.w3.org/2000/svg\" height=\"24px\"viewBox=\"0 0 24 24\"\n",
              "       width=\"24px\">\n",
              "    <path d=\"M0 0h24v24H0V0z\" fill=\"none\"/>\n",
              "    <path d=\"M18.56 5.44l.94 2.06.94-2.06 2.06-.94-2.06-.94-.94-2.06-.94 2.06-2.06.94zm-11 1L8.5 8.5l.94-2.06 2.06-.94-2.06-.94L8.5 2.5l-.94 2.06-2.06.94zm10 10l.94 2.06.94-2.06 2.06-.94-2.06-.94-.94-2.06-.94 2.06-2.06.94z\"/><path d=\"M17.41 7.96l-1.37-1.37c-.4-.4-.92-.59-1.43-.59-.52 0-1.04.2-1.43.59L10.3 9.45l-7.72 7.72c-.78.78-.78 2.05 0 2.83L4 21.41c.39.39.9.59 1.41.59.51 0 1.02-.2 1.41-.59l7.78-7.78 2.81-2.81c.8-.78.8-2.07 0-2.86zM5.41 20L4 18.59l7.72-7.72 1.47 1.35L5.41 20z\"/>\n",
              "  </svg>\n",
              "      </button>\n",
              "      \n",
              "  <style>\n",
              "    .colab-df-container {\n",
              "      display:flex;\n",
              "      flex-wrap:wrap;\n",
              "      gap: 12px;\n",
              "    }\n",
              "\n",
              "    .colab-df-convert {\n",
              "      background-color: #E8F0FE;\n",
              "      border: none;\n",
              "      border-radius: 50%;\n",
              "      cursor: pointer;\n",
              "      display: none;\n",
              "      fill: #1967D2;\n",
              "      height: 32px;\n",
              "      padding: 0 0 0 0;\n",
              "      width: 32px;\n",
              "    }\n",
              "\n",
              "    .colab-df-convert:hover {\n",
              "      background-color: #E2EBFA;\n",
              "      box-shadow: 0px 1px 2px rgba(60, 64, 67, 0.3), 0px 1px 3px 1px rgba(60, 64, 67, 0.15);\n",
              "      fill: #174EA6;\n",
              "    }\n",
              "\n",
              "    [theme=dark] .colab-df-convert {\n",
              "      background-color: #3B4455;\n",
              "      fill: #D2E3FC;\n",
              "    }\n",
              "\n",
              "    [theme=dark] .colab-df-convert:hover {\n",
              "      background-color: #434B5C;\n",
              "      box-shadow: 0px 1px 3px 1px rgba(0, 0, 0, 0.15);\n",
              "      filter: drop-shadow(0px 1px 2px rgba(0, 0, 0, 0.3));\n",
              "      fill: #FFFFFF;\n",
              "    }\n",
              "  </style>\n",
              "\n",
              "      <script>\n",
              "        const buttonEl =\n",
              "          document.querySelector('#df-bfa615a8-2268-4a59-804f-d8bf3fe87a6f button.colab-df-convert');\n",
              "        buttonEl.style.display =\n",
              "          google.colab.kernel.accessAllowed ? 'block' : 'none';\n",
              "\n",
              "        async function convertToInteractive(key) {\n",
              "          const element = document.querySelector('#df-bfa615a8-2268-4a59-804f-d8bf3fe87a6f');\n",
              "          const dataTable =\n",
              "            await google.colab.kernel.invokeFunction('convertToInteractive',\n",
              "                                                     [key], {});\n",
              "          if (!dataTable) return;\n",
              "\n",
              "          const docLinkHtml = 'Like what you see? Visit the ' +\n",
              "            '<a target=\"_blank\" href=https://colab.research.google.com/notebooks/data_table.ipynb>data table notebook</a>'\n",
              "            + ' to learn more about interactive tables.';\n",
              "          element.innerHTML = '';\n",
              "          dataTable['output_type'] = 'display_data';\n",
              "          await google.colab.output.renderOutput(dataTable, element);\n",
              "          const docLink = document.createElement('div');\n",
              "          docLink.innerHTML = docLinkHtml;\n",
              "          element.appendChild(docLink);\n",
              "        }\n",
              "      </script>\n",
              "    </div>\n",
              "  </div>\n",
              "  "
            ]
          },
          "metadata": {},
          "execution_count": 106
        }
      ]
    },
    {
      "cell_type": "code",
      "source": [
        "# Top 15 palabras más características de cada medio\n",
        "# ==============================================================================\n",
        "\n",
        "top_30 = tweets_logOdds[['log_odds', 'abs_log_odds', 'autor_frecuente']] \\\n",
        "        .groupby('autor_frecuente') \\\n",
        "        .apply(lambda x: x.nlargest(15, columns='abs_log_odds').reset_index()) \\\n",
        "        .reset_index(drop=True) \\\n",
        "        .sort_values('log_odds')\n",
        "\n",
        "f, ax = plt.subplots(figsize=(4, 7))\n",
        "sns.barplot(\n",
        "    x    = 'log_odds',\n",
        "    y    = 'token',\n",
        "    hue  = 'autor_frecuente',\n",
        "    data = top_30,\n",
        "    ax   = ax\n",
        ")\n",
        "ax.set_title('Top 15 palabras más características de cada autor')\n",
        "ax.set_xlabel('log odds ratio (@filonewsOK / @infobae)');"
      ],
      "metadata": {
        "colab": {
          "base_uri": "https://localhost:8080/",
          "height": 458
        },
        "id": "w6t7nlJZPvPn",
        "outputId": "f280b27e-0136-4c88-ccd5-5ae2548fe899"
      },
      "execution_count": 107,
      "outputs": [
        {
          "output_type": "display_data",
          "data": {
            "text/plain": [
              "<Figure size 288x504 with 1 Axes>"
            ],
            "image/png": "[encoded data removed]"
          },
          "metadata": {
            "needs_background": "light"
          }
        }
      ]
    },
    {
      "cell_type": "markdown",
      "source": [
        "Estas palabras posiblemente tendrán mucho peso a la hora de clasificar los tweets.\n",
        "\n",
        "\n",
        "-\n",
        "\n",
        "-\n",
        "\n",
        "### Term Frequency e Inverse Document Frequency"
      ],
      "metadata": {
        "id": "DipjfrUpR5B_"
      }
    },
    {
      "cell_type": "code",
      "source": [],
      "metadata": {
        "id": "oxrP7m9lR4bn"
      },
      "execution_count": null,
      "outputs": []
    }
  ]
}